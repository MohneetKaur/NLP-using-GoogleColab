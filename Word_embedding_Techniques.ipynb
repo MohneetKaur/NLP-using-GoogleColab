{
  "cells": [
    {
      "cell_type": "markdown",
      "metadata": {
        "id": "view-in-github",
        "colab_type": "text"
      },
      "source": [
        "<a href=\"https://colab.research.google.com/github/MohneetKaur/NLP-using-GoogleColab/blob/main/Word_embedding_Techniques.ipynb\" target=\"_parent\"><img src=\"https://colab.research.google.com/assets/colab-badge.svg\" alt=\"Open In Colab\"/></a>"
      ]
    },
    {
      "cell_type": "markdown",
      "metadata": {
        "id": "eHNf7J680XF-"
      },
      "source": [
        "### Word Embedding Techniques using Embedding Layer in Keras"
      ]
    },
    {
      "cell_type": "code",
      "execution_count": 1,
      "metadata": {
        "id": "PEsK0_yl0XGB"
      },
      "outputs": [],
      "source": [
        "### Libraries USed Tensorflow> 2.0  and keras"
      ]
    },
    {
      "cell_type": "code",
      "execution_count": 9,
      "metadata": {
        "colab": {
          "base_uri": "https://localhost:8080/"
        },
        "id": "pslw1Ya90XGC",
        "outputId": "b8394b27-7061-4266-f2ee-9f6317afad1a"
      },
      "outputs": [
        {
          "output_type": "stream",
          "name": "stdout",
          "text": [
            "Requirement already satisfied: tensorflow==2.12.* in /usr/local/lib/python3.10/dist-packages (2.12.0)\n",
            "Requirement already satisfied: absl-py>=1.0.0 in /usr/local/lib/python3.10/dist-packages (from tensorflow==2.12.*) (1.4.0)\n",
            "Requirement already satisfied: astunparse>=1.6.0 in /usr/local/lib/python3.10/dist-packages (from tensorflow==2.12.*) (1.6.3)\n",
            "Requirement already satisfied: flatbuffers>=2.0 in /usr/local/lib/python3.10/dist-packages (from tensorflow==2.12.*) (23.5.26)\n",
            "Requirement already satisfied: gast<=0.4.0,>=0.2.1 in /usr/local/lib/python3.10/dist-packages (from tensorflow==2.12.*) (0.4.0)\n",
            "Requirement already satisfied: google-pasta>=0.1.1 in /usr/local/lib/python3.10/dist-packages (from tensorflow==2.12.*) (0.2.0)\n",
            "Requirement already satisfied: grpcio<2.0,>=1.24.3 in /usr/local/lib/python3.10/dist-packages (from tensorflow==2.12.*) (1.56.0)\n",
            "Requirement already satisfied: h5py>=2.9.0 in /usr/local/lib/python3.10/dist-packages (from tensorflow==2.12.*) (3.8.0)\n",
            "Requirement already satisfied: jax>=0.3.15 in /usr/local/lib/python3.10/dist-packages (from tensorflow==2.12.*) (0.4.10)\n",
            "Requirement already satisfied: keras<2.13,>=2.12.0 in /usr/local/lib/python3.10/dist-packages (from tensorflow==2.12.*) (2.12.0)\n",
            "Requirement already satisfied: libclang>=13.0.0 in /usr/local/lib/python3.10/dist-packages (from tensorflow==2.12.*) (16.0.0)\n",
            "Requirement already satisfied: numpy<1.24,>=1.22 in /usr/local/lib/python3.10/dist-packages (from tensorflow==2.12.*) (1.22.4)\n",
            "Requirement already satisfied: opt-einsum>=2.3.2 in /usr/local/lib/python3.10/dist-packages (from tensorflow==2.12.*) (3.3.0)\n",
            "Requirement already satisfied: packaging in /usr/local/lib/python3.10/dist-packages (from tensorflow==2.12.*) (23.1)\n",
            "Requirement already satisfied: protobuf!=4.21.0,!=4.21.1,!=4.21.2,!=4.21.3,!=4.21.4,!=4.21.5,<5.0.0dev,>=3.20.3 in /usr/local/lib/python3.10/dist-packages (from tensorflow==2.12.*) (3.20.3)\n",
            "Requirement already satisfied: setuptools in /usr/local/lib/python3.10/dist-packages (from tensorflow==2.12.*) (67.7.2)\n",
            "Requirement already satisfied: six>=1.12.0 in /usr/local/lib/python3.10/dist-packages (from tensorflow==2.12.*) (1.16.0)\n",
            "Requirement already satisfied: tensorboard<2.13,>=2.12 in /usr/local/lib/python3.10/dist-packages (from tensorflow==2.12.*) (2.12.3)\n",
            "Requirement already satisfied: tensorflow-estimator<2.13,>=2.12.0 in /usr/local/lib/python3.10/dist-packages (from tensorflow==2.12.*) (2.12.0)\n",
            "Requirement already satisfied: termcolor>=1.1.0 in /usr/local/lib/python3.10/dist-packages (from tensorflow==2.12.*) (2.3.0)\n",
            "Requirement already satisfied: typing-extensions>=3.6.6 in /usr/local/lib/python3.10/dist-packages (from tensorflow==2.12.*) (4.6.3)\n",
            "Requirement already satisfied: wrapt<1.15,>=1.11.0 in /usr/local/lib/python3.10/dist-packages (from tensorflow==2.12.*) (1.14.1)\n",
            "Requirement already satisfied: tensorflow-io-gcs-filesystem>=0.23.1 in /usr/local/lib/python3.10/dist-packages (from tensorflow==2.12.*) (0.32.0)\n",
            "Requirement already satisfied: wheel<1.0,>=0.23.0 in /usr/local/lib/python3.10/dist-packages (from astunparse>=1.6.0->tensorflow==2.12.*) (0.40.0)\n",
            "Requirement already satisfied: ml-dtypes>=0.1.0 in /usr/local/lib/python3.10/dist-packages (from jax>=0.3.15->tensorflow==2.12.*) (0.2.0)\n",
            "Requirement already satisfied: scipy>=1.7 in /usr/local/lib/python3.10/dist-packages (from jax>=0.3.15->tensorflow==2.12.*) (1.10.1)\n",
            "Requirement already satisfied: google-auth<3,>=1.6.3 in /usr/local/lib/python3.10/dist-packages (from tensorboard<2.13,>=2.12->tensorflow==2.12.*) (2.17.3)\n",
            "Requirement already satisfied: google-auth-oauthlib<1.1,>=0.5 in /usr/local/lib/python3.10/dist-packages (from tensorboard<2.13,>=2.12->tensorflow==2.12.*) (1.0.0)\n",
            "Requirement already satisfied: markdown>=2.6.8 in /usr/local/lib/python3.10/dist-packages (from tensorboard<2.13,>=2.12->tensorflow==2.12.*) (3.4.3)\n",
            "Requirement already satisfied: requests<3,>=2.21.0 in /usr/local/lib/python3.10/dist-packages (from tensorboard<2.13,>=2.12->tensorflow==2.12.*) (2.27.1)\n",
            "Requirement already satisfied: tensorboard-data-server<0.8.0,>=0.7.0 in /usr/local/lib/python3.10/dist-packages (from tensorboard<2.13,>=2.12->tensorflow==2.12.*) (0.7.1)\n",
            "Requirement already satisfied: werkzeug>=1.0.1 in /usr/local/lib/python3.10/dist-packages (from tensorboard<2.13,>=2.12->tensorflow==2.12.*) (2.3.6)\n",
            "Requirement already satisfied: cachetools<6.0,>=2.0.0 in /usr/local/lib/python3.10/dist-packages (from google-auth<3,>=1.6.3->tensorboard<2.13,>=2.12->tensorflow==2.12.*) (5.3.1)\n",
            "Requirement already satisfied: pyasn1-modules>=0.2.1 in /usr/local/lib/python3.10/dist-packages (from google-auth<3,>=1.6.3->tensorboard<2.13,>=2.12->tensorflow==2.12.*) (0.3.0)\n",
            "Requirement already satisfied: rsa<5,>=3.1.4 in /usr/local/lib/python3.10/dist-packages (from google-auth<3,>=1.6.3->tensorboard<2.13,>=2.12->tensorflow==2.12.*) (4.9)\n",
            "Requirement already satisfied: requests-oauthlib>=0.7.0 in /usr/local/lib/python3.10/dist-packages (from google-auth-oauthlib<1.1,>=0.5->tensorboard<2.13,>=2.12->tensorflow==2.12.*) (1.3.1)\n",
            "Requirement already satisfied: urllib3<1.27,>=1.21.1 in /usr/local/lib/python3.10/dist-packages (from requests<3,>=2.21.0->tensorboard<2.13,>=2.12->tensorflow==2.12.*) (1.26.16)\n",
            "Requirement already satisfied: certifi>=2017.4.17 in /usr/local/lib/python3.10/dist-packages (from requests<3,>=2.21.0->tensorboard<2.13,>=2.12->tensorflow==2.12.*) (2023.5.7)\n",
            "Requirement already satisfied: charset-normalizer~=2.0.0 in /usr/local/lib/python3.10/dist-packages (from requests<3,>=2.21.0->tensorboard<2.13,>=2.12->tensorflow==2.12.*) (2.0.12)\n",
            "Requirement already satisfied: idna<4,>=2.5 in /usr/local/lib/python3.10/dist-packages (from requests<3,>=2.21.0->tensorboard<2.13,>=2.12->tensorflow==2.12.*) (3.4)\n",
            "Requirement already satisfied: MarkupSafe>=2.1.1 in /usr/local/lib/python3.10/dist-packages (from werkzeug>=1.0.1->tensorboard<2.13,>=2.12->tensorflow==2.12.*) (2.1.3)\n",
            "Requirement already satisfied: pyasn1<0.6.0,>=0.4.6 in /usr/local/lib/python3.10/dist-packages (from pyasn1-modules>=0.2.1->google-auth<3,>=1.6.3->tensorboard<2.13,>=2.12->tensorflow==2.12.*) (0.5.0)\n",
            "Requirement already satisfied: oauthlib>=3.0.0 in /usr/local/lib/python3.10/dist-packages (from requests-oauthlib>=0.7.0->google-auth-oauthlib<1.1,>=0.5->tensorboard<2.13,>=2.12->tensorflow==2.12.*) (3.2.2)\n"
          ]
        }
      ],
      "source": [
        "pip install tensorflow==2.12.*"
      ]
    },
    {
      "cell_type": "code",
      "source": [
        "import tensorflow as tf\n",
        "print(tf.__version__)"
      ],
      "metadata": {
        "colab": {
          "base_uri": "https://localhost:8080/"
        },
        "id": "yZ5hceiMAX7n",
        "outputId": "567e3eda-d985-4c2f-dc17-ec2ecd243099"
      },
      "execution_count": 10,
      "outputs": [
        {
          "output_type": "stream",
          "name": "stdout",
          "text": [
            "2.12.0\n"
          ]
        }
      ]
    },
    {
      "cell_type": "code",
      "execution_count": 11,
      "metadata": {
        "id": "k4nKifUl0XGC"
      },
      "outputs": [],
      "source": [
        "##tensorflow >2.0\n",
        "from tensorflow.keras.preprocessing.text import one_hot"
      ]
    },
    {
      "cell_type": "code",
      "source": [],
      "metadata": {
        "id": "hADTdqZTAUfS"
      },
      "execution_count": 11,
      "outputs": []
    },
    {
      "cell_type": "code",
      "execution_count": 12,
      "metadata": {
        "id": "Fu9PuYeu0XGD"
      },
      "outputs": [],
      "source": [
        "### sentences\n",
        "sent=[  'the glass of milk',\n",
        "     'the glass of juice',\n",
        "     'the cup of tea',\n",
        "    'I am a good boy',\n",
        "     'I am a good developer',\n",
        "     'understand the meaning of words',\n",
        "     'your videos are good']"
      ]
    },
    {
      "cell_type": "code",
      "execution_count": 13,
      "metadata": {
        "colab": {
          "base_uri": "https://localhost:8080/"
        },
        "id": "x5d1D3_20XGD",
        "outputId": "6421848c-cbae-4126-d173-e087a6cf019e"
      },
      "outputs": [
        {
          "output_type": "execute_result",
          "data": {
            "text/plain": [
              "['the glass of milk',\n",
              " 'the glass of juice',\n",
              " 'the cup of tea',\n",
              " 'I am a good boy',\n",
              " 'I am a good developer',\n",
              " 'understand the meaning of words',\n",
              " 'your videos are good']"
            ]
          },
          "metadata": {},
          "execution_count": 13
        }
      ],
      "source": [
        "sent"
      ]
    },
    {
      "cell_type": "code",
      "execution_count": 25,
      "metadata": {
        "id": "tjnXIn3B0XGE"
      },
      "outputs": [],
      "source": [
        "### Vocabulary size\n",
        "voc_size=500"
      ]
    },
    {
      "cell_type": "markdown",
      "metadata": {
        "id": "-vQOdeKk0XGE"
      },
      "source": [
        "#### One Hot Representation"
      ]
    },
    {
      "cell_type": "code",
      "execution_count": 26,
      "metadata": {
        "colab": {
          "base_uri": "https://localhost:8080/"
        },
        "id": "gojfZpAW0XGE",
        "outputId": "4967baf8-fa10-43d1-df7b-b5d0a2af5356"
      },
      "outputs": [
        {
          "output_type": "stream",
          "name": "stdout",
          "text": [
            "[[40, 242, 152, 117], [40, 242, 152, 468], [40, 223, 152, 335], [119, 316, 406, 174, 241], [119, 316, 406, 174, 69], [465, 40, 249, 152, 56], [221, 24, 219, 174]]\n"
          ]
        }
      ],
      "source": [
        "onehot_repr=[one_hot(words,voc_size)for words in sent]\n",
        "print(onehot_repr) # returns index where the word was 1"
      ]
    },
    {
      "cell_type": "markdown",
      "metadata": {
        "id": "eYG267x40XGF"
      },
      "source": [
        "### Word Embedding Represntation"
      ]
    },
    {
      "cell_type": "code",
      "execution_count": 27,
      "metadata": {
        "id": "wpqPm0tb0XGF"
      },
      "outputs": [],
      "source": [
        "from tensorflow.keras.layers import Embedding\n",
        "from tensorflow.keras.preprocessing.sequence import pad_sequences\n",
        "from tensorflow.keras.models import Sequential"
      ]
    },
    {
      "cell_type": "code",
      "execution_count": 28,
      "metadata": {
        "id": "Rov3GTM00XGG"
      },
      "outputs": [],
      "source": [
        "import numpy as np"
      ]
    },
    {
      "cell_type": "code",
      "execution_count": 29,
      "metadata": {
        "colab": {
          "base_uri": "https://localhost:8080/"
        },
        "id": "8fQLPw6p0XGG",
        "outputId": "b41fd044-19a0-40e0-d1c6-adee49f4fbff"
      },
      "outputs": [
        {
          "output_type": "stream",
          "name": "stdout",
          "text": [
            "[[  0   0   0   0  40 242 152 117]\n",
            " [  0   0   0   0  40 242 152 468]\n",
            " [  0   0   0   0  40 223 152 335]\n",
            " [  0   0   0 119 316 406 174 241]\n",
            " [  0   0   0 119 316 406 174  69]\n",
            " [  0   0   0 465  40 249 152  56]\n",
            " [  0   0   0   0 221  24 219 174]]\n"
          ]
        }
      ],
      "source": [
        "## pre padding\n",
        "sent_length=8\n",
        "embedded_docs=pad_sequences(onehot_repr,padding='pre',maxlen=sent_length)\n",
        "print(embedded_docs)"
      ]
    },
    {
      "cell_type": "code",
      "execution_count": 30,
      "metadata": {
        "id": "yjQqBYac0XGG"
      },
      "outputs": [],
      "source": [
        "## 10 feature dimesnions\n",
        "dim=10\n"
      ]
    },
    {
      "cell_type": "code",
      "execution_count": 31,
      "metadata": {
        "id": "ozC-TXrt0XGG"
      },
      "outputs": [],
      "source": [
        "model=Sequential()\n",
        "model.add(Embedding(voc_size,10,input_length=sent_length))\n",
        "model.compile('adam','mse')"
      ]
    },
    {
      "cell_type": "code",
      "execution_count": 32,
      "metadata": {
        "colab": {
          "base_uri": "https://localhost:8080/"
        },
        "id": "tMNvq-Ji0XGH",
        "outputId": "3d46933d-0738-42cf-89ae-f7b1be2e2a3f"
      },
      "outputs": [
        {
          "output_type": "stream",
          "name": "stdout",
          "text": [
            "Model: \"sequential\"\n",
            "_________________________________________________________________\n",
            " Layer (type)                Output Shape              Param #   \n",
            "=================================================================\n",
            " embedding (Embedding)       (None, 8, 10)             5000      \n",
            "                                                                 \n",
            "=================================================================\n",
            "Total params: 5,000\n",
            "Trainable params: 5,000\n",
            "Non-trainable params: 0\n",
            "_________________________________________________________________\n"
          ]
        }
      ],
      "source": [
        "model.summary()"
      ]
    },
    {
      "cell_type": "code",
      "source": [
        "##'the glass of milk',\n",
        "embedded_docs[0]"
      ],
      "metadata": {
        "colab": {
          "base_uri": "https://localhost:8080/"
        },
        "id": "FC4Ess_FEcb3",
        "outputId": "3713067f-6be2-4a8c-cea2-7b51647f15f6"
      },
      "execution_count": 33,
      "outputs": [
        {
          "output_type": "execute_result",
          "data": {
            "text/plain": [
              "array([  0,   0,   0,   0,  40, 242, 152, 117], dtype=int32)"
            ]
          },
          "metadata": {},
          "execution_count": 33
        }
      ]
    },
    {
      "cell_type": "code",
      "source": [
        "model.predict(embedded_docs[0])"
      ],
      "metadata": {
        "colab": {
          "base_uri": "https://localhost:8080/"
        },
        "id": "bRqEvMBYEZUS",
        "outputId": "b5aecfc6-e810-416a-aae5-0414d6b7e813"
      },
      "execution_count": 34,
      "outputs": [
        {
          "output_type": "stream",
          "name": "stdout",
          "text": [
            "1/1 [==============================] - 0s 171ms/step\n"
          ]
        },
        {
          "output_type": "execute_result",
          "data": {
            "text/plain": [
              "array([[-3.92261855e-02, -2.82040369e-02,  4.97449897e-02,\n",
              "        -3.21421847e-02,  7.90311024e-03,  4.60354201e-02,\n",
              "        -6.23713806e-03,  2.89757513e-02, -2.33320594e-02,\n",
              "        -4.97848280e-02],\n",
              "       [-3.92261855e-02, -2.82040369e-02,  4.97449897e-02,\n",
              "        -3.21421847e-02,  7.90311024e-03,  4.60354201e-02,\n",
              "        -6.23713806e-03,  2.89757513e-02, -2.33320594e-02,\n",
              "        -4.97848280e-02],\n",
              "       [-3.92261855e-02, -2.82040369e-02,  4.97449897e-02,\n",
              "        -3.21421847e-02,  7.90311024e-03,  4.60354201e-02,\n",
              "        -6.23713806e-03,  2.89757513e-02, -2.33320594e-02,\n",
              "        -4.97848280e-02],\n",
              "       [-3.92261855e-02, -2.82040369e-02,  4.97449897e-02,\n",
              "        -3.21421847e-02,  7.90311024e-03,  4.60354201e-02,\n",
              "        -6.23713806e-03,  2.89757513e-02, -2.33320594e-02,\n",
              "        -4.97848280e-02],\n",
              "       [-4.27697413e-02, -2.60407850e-03,  4.57087196e-02,\n",
              "        -4.20808308e-02,  3.71035002e-02, -1.86497457e-02,\n",
              "        -1.17281564e-02, -6.67747110e-03, -3.71776223e-02,\n",
              "        -4.47044857e-02],\n",
              "       [-3.31827626e-02,  2.44951248e-03,  1.16032362e-02,\n",
              "        -4.00090702e-02, -3.22266594e-02,  3.95322703e-02,\n",
              "        -1.25843175e-02, -7.43405893e-03, -3.30773368e-02,\n",
              "        -4.90115769e-02],\n",
              "       [ 3.54195274e-02,  1.83314793e-02, -2.48072278e-02,\n",
              "        -1.32431015e-02, -3.53439339e-02, -3.76529321e-02,\n",
              "        -1.40781179e-02, -2.24386808e-02, -3.08981538e-02,\n",
              "        -1.12808943e-02],\n",
              "       [ 2.73541324e-02,  1.39937289e-02,  2.32751407e-02,\n",
              "        -4.12945263e-02,  8.52234662e-05,  1.82585604e-02,\n",
              "         2.81299986e-02, -3.18118185e-03, -3.53536718e-02,\n",
              "         2.12675966e-02]], dtype=float32)"
            ]
          },
          "metadata": {},
          "execution_count": 34
        }
      ]
    },
    {
      "cell_type": "code",
      "execution_count": 35,
      "metadata": {
        "colab": {
          "base_uri": "https://localhost:8080/"
        },
        "id": "kzKP69gx0XGH",
        "outputId": "102e814e-633f-445c-d033-1ba9641be29e"
      },
      "outputs": [
        {
          "output_type": "stream",
          "name": "stdout",
          "text": [
            "1/1 [==============================] - 0s 37ms/step\n",
            "[[[-3.92261855e-02 -2.82040369e-02  4.97449897e-02 -3.21421847e-02\n",
            "    7.90311024e-03  4.60354201e-02 -6.23713806e-03  2.89757513e-02\n",
            "   -2.33320594e-02 -4.97848280e-02]\n",
            "  [-3.92261855e-02 -2.82040369e-02  4.97449897e-02 -3.21421847e-02\n",
            "    7.90311024e-03  4.60354201e-02 -6.23713806e-03  2.89757513e-02\n",
            "   -2.33320594e-02 -4.97848280e-02]\n",
            "  [-3.92261855e-02 -2.82040369e-02  4.97449897e-02 -3.21421847e-02\n",
            "    7.90311024e-03  4.60354201e-02 -6.23713806e-03  2.89757513e-02\n",
            "   -2.33320594e-02 -4.97848280e-02]\n",
            "  [-3.92261855e-02 -2.82040369e-02  4.97449897e-02 -3.21421847e-02\n",
            "    7.90311024e-03  4.60354201e-02 -6.23713806e-03  2.89757513e-02\n",
            "   -2.33320594e-02 -4.97848280e-02]\n",
            "  [-4.27697413e-02 -2.60407850e-03  4.57087196e-02 -4.20808308e-02\n",
            "    3.71035002e-02 -1.86497457e-02 -1.17281564e-02 -6.67747110e-03\n",
            "   -3.71776223e-02 -4.47044857e-02]\n",
            "  [-3.31827626e-02  2.44951248e-03  1.16032362e-02 -4.00090702e-02\n",
            "   -3.22266594e-02  3.95322703e-02 -1.25843175e-02 -7.43405893e-03\n",
            "   -3.30773368e-02 -4.90115769e-02]\n",
            "  [ 3.54195274e-02  1.83314793e-02 -2.48072278e-02 -1.32431015e-02\n",
            "   -3.53439339e-02 -3.76529321e-02 -1.40781179e-02 -2.24386808e-02\n",
            "   -3.08981538e-02 -1.12808943e-02]\n",
            "  [ 2.73541324e-02  1.39937289e-02  2.32751407e-02 -4.12945263e-02\n",
            "    8.52234662e-05  1.82585604e-02  2.81299986e-02 -3.18118185e-03\n",
            "   -3.53536718e-02  2.12675966e-02]]\n",
            "\n",
            " [[-3.92261855e-02 -2.82040369e-02  4.97449897e-02 -3.21421847e-02\n",
            "    7.90311024e-03  4.60354201e-02 -6.23713806e-03  2.89757513e-02\n",
            "   -2.33320594e-02 -4.97848280e-02]\n",
            "  [-3.92261855e-02 -2.82040369e-02  4.97449897e-02 -3.21421847e-02\n",
            "    7.90311024e-03  4.60354201e-02 -6.23713806e-03  2.89757513e-02\n",
            "   -2.33320594e-02 -4.97848280e-02]\n",
            "  [-3.92261855e-02 -2.82040369e-02  4.97449897e-02 -3.21421847e-02\n",
            "    7.90311024e-03  4.60354201e-02 -6.23713806e-03  2.89757513e-02\n",
            "   -2.33320594e-02 -4.97848280e-02]\n",
            "  [-3.92261855e-02 -2.82040369e-02  4.97449897e-02 -3.21421847e-02\n",
            "    7.90311024e-03  4.60354201e-02 -6.23713806e-03  2.89757513e-02\n",
            "   -2.33320594e-02 -4.97848280e-02]\n",
            "  [-4.27697413e-02 -2.60407850e-03  4.57087196e-02 -4.20808308e-02\n",
            "    3.71035002e-02 -1.86497457e-02 -1.17281564e-02 -6.67747110e-03\n",
            "   -3.71776223e-02 -4.47044857e-02]\n",
            "  [-3.31827626e-02  2.44951248e-03  1.16032362e-02 -4.00090702e-02\n",
            "   -3.22266594e-02  3.95322703e-02 -1.25843175e-02 -7.43405893e-03\n",
            "   -3.30773368e-02 -4.90115769e-02]\n",
            "  [ 3.54195274e-02  1.83314793e-02 -2.48072278e-02 -1.32431015e-02\n",
            "   -3.53439339e-02 -3.76529321e-02 -1.40781179e-02 -2.24386808e-02\n",
            "   -3.08981538e-02 -1.12808943e-02]\n",
            "  [-1.99314207e-03 -2.49713548e-02 -3.15995216e-02  1.71009637e-02\n",
            "   -2.17186455e-02  4.46748026e-02 -1.90565344e-02  2.68052332e-02\n",
            "    4.83248383e-03  4.44745757e-02]]\n",
            "\n",
            " [[-3.92261855e-02 -2.82040369e-02  4.97449897e-02 -3.21421847e-02\n",
            "    7.90311024e-03  4.60354201e-02 -6.23713806e-03  2.89757513e-02\n",
            "   -2.33320594e-02 -4.97848280e-02]\n",
            "  [-3.92261855e-02 -2.82040369e-02  4.97449897e-02 -3.21421847e-02\n",
            "    7.90311024e-03  4.60354201e-02 -6.23713806e-03  2.89757513e-02\n",
            "   -2.33320594e-02 -4.97848280e-02]\n",
            "  [-3.92261855e-02 -2.82040369e-02  4.97449897e-02 -3.21421847e-02\n",
            "    7.90311024e-03  4.60354201e-02 -6.23713806e-03  2.89757513e-02\n",
            "   -2.33320594e-02 -4.97848280e-02]\n",
            "  [-3.92261855e-02 -2.82040369e-02  4.97449897e-02 -3.21421847e-02\n",
            "    7.90311024e-03  4.60354201e-02 -6.23713806e-03  2.89757513e-02\n",
            "   -2.33320594e-02 -4.97848280e-02]\n",
            "  [-4.27697413e-02 -2.60407850e-03  4.57087196e-02 -4.20808308e-02\n",
            "    3.71035002e-02 -1.86497457e-02 -1.17281564e-02 -6.67747110e-03\n",
            "   -3.71776223e-02 -4.47044857e-02]\n",
            "  [-6.17868826e-03  1.47187151e-02 -1.65210962e-02 -8.21393728e-03\n",
            "    1.10833719e-03  4.29764502e-02 -1.63363107e-02  2.47954987e-02\n",
            "   -1.76733956e-02  4.65920605e-02]\n",
            "  [ 3.54195274e-02  1.83314793e-02 -2.48072278e-02 -1.32431015e-02\n",
            "   -3.53439339e-02 -3.76529321e-02 -1.40781179e-02 -2.24386808e-02\n",
            "   -3.08981538e-02 -1.12808943e-02]\n",
            "  [-1.93100572e-02 -2.82495506e-02 -3.38420495e-02 -2.01512109e-02\n",
            "   -1.11039393e-02 -1.72509775e-02  4.30842973e-02  4.06721272e-02\n",
            "    3.55108827e-03 -4.48425300e-02]]\n",
            "\n",
            " [[-3.92261855e-02 -2.82040369e-02  4.97449897e-02 -3.21421847e-02\n",
            "    7.90311024e-03  4.60354201e-02 -6.23713806e-03  2.89757513e-02\n",
            "   -2.33320594e-02 -4.97848280e-02]\n",
            "  [-3.92261855e-02 -2.82040369e-02  4.97449897e-02 -3.21421847e-02\n",
            "    7.90311024e-03  4.60354201e-02 -6.23713806e-03  2.89757513e-02\n",
            "   -2.33320594e-02 -4.97848280e-02]\n",
            "  [-3.92261855e-02 -2.82040369e-02  4.97449897e-02 -3.21421847e-02\n",
            "    7.90311024e-03  4.60354201e-02 -6.23713806e-03  2.89757513e-02\n",
            "   -2.33320594e-02 -4.97848280e-02]\n",
            "  [ 4.93965782e-02  3.00055407e-02  6.97509199e-03 -8.86347145e-03\n",
            "    1.64495744e-02  4.96945269e-02  1.43063329e-02 -1.14799626e-02\n",
            "    3.15340273e-02 -9.20772552e-04]\n",
            "  [ 3.72947566e-02 -4.46301363e-02  3.55264656e-02 -1.46589391e-02\n",
            "    2.75964849e-02  4.11860459e-02  1.12322792e-02  2.46690400e-02\n",
            "   -3.48243117e-02 -2.34179981e-02]\n",
            "  [-4.57814708e-02  4.29903977e-02  3.76191847e-02  1.50716342e-02\n",
            "   -2.05575228e-02 -3.51832062e-03  6.16034120e-03  1.91116966e-02\n",
            "    3.21164243e-02  1.57562755e-02]\n",
            "  [ 3.19727175e-02 -3.58909853e-02 -3.55364457e-02 -3.62175815e-02\n",
            "    1.70350708e-02 -1.16579756e-02 -3.38493139e-02 -3.00963167e-02\n",
            "   -3.78375165e-02 -1.15145072e-02]\n",
            "  [-3.50444317e-02  2.02275999e-02  1.25440210e-03  2.14441754e-02\n",
            "    2.64272802e-02 -3.50183137e-02 -3.99050713e-02 -2.02925932e-02\n",
            "    2.00016424e-03  3.79682444e-02]]\n",
            "\n",
            " [[-3.92261855e-02 -2.82040369e-02  4.97449897e-02 -3.21421847e-02\n",
            "    7.90311024e-03  4.60354201e-02 -6.23713806e-03  2.89757513e-02\n",
            "   -2.33320594e-02 -4.97848280e-02]\n",
            "  [-3.92261855e-02 -2.82040369e-02  4.97449897e-02 -3.21421847e-02\n",
            "    7.90311024e-03  4.60354201e-02 -6.23713806e-03  2.89757513e-02\n",
            "   -2.33320594e-02 -4.97848280e-02]\n",
            "  [-3.92261855e-02 -2.82040369e-02  4.97449897e-02 -3.21421847e-02\n",
            "    7.90311024e-03  4.60354201e-02 -6.23713806e-03  2.89757513e-02\n",
            "   -2.33320594e-02 -4.97848280e-02]\n",
            "  [ 4.93965782e-02  3.00055407e-02  6.97509199e-03 -8.86347145e-03\n",
            "    1.64495744e-02  4.96945269e-02  1.43063329e-02 -1.14799626e-02\n",
            "    3.15340273e-02 -9.20772552e-04]\n",
            "  [ 3.72947566e-02 -4.46301363e-02  3.55264656e-02 -1.46589391e-02\n",
            "    2.75964849e-02  4.11860459e-02  1.12322792e-02  2.46690400e-02\n",
            "   -3.48243117e-02 -2.34179981e-02]\n",
            "  [-4.57814708e-02  4.29903977e-02  3.76191847e-02  1.50716342e-02\n",
            "   -2.05575228e-02 -3.51832062e-03  6.16034120e-03  1.91116966e-02\n",
            "    3.21164243e-02  1.57562755e-02]\n",
            "  [ 3.19727175e-02 -3.58909853e-02 -3.55364457e-02 -3.62175815e-02\n",
            "    1.70350708e-02 -1.16579756e-02 -3.38493139e-02 -3.00963167e-02\n",
            "   -3.78375165e-02 -1.15145072e-02]\n",
            "  [ 3.78467478e-02  3.74443643e-02 -2.54360791e-02 -1.51370056e-02\n",
            "   -4.20831814e-02 -3.45196947e-02  3.23872678e-02 -3.45477834e-02\n",
            "   -2.28976607e-02 -3.16766985e-02]]\n",
            "\n",
            " [[-3.92261855e-02 -2.82040369e-02  4.97449897e-02 -3.21421847e-02\n",
            "    7.90311024e-03  4.60354201e-02 -6.23713806e-03  2.89757513e-02\n",
            "   -2.33320594e-02 -4.97848280e-02]\n",
            "  [-3.92261855e-02 -2.82040369e-02  4.97449897e-02 -3.21421847e-02\n",
            "    7.90311024e-03  4.60354201e-02 -6.23713806e-03  2.89757513e-02\n",
            "   -2.33320594e-02 -4.97848280e-02]\n",
            "  [-3.92261855e-02 -2.82040369e-02  4.97449897e-02 -3.21421847e-02\n",
            "    7.90311024e-03  4.60354201e-02 -6.23713806e-03  2.89757513e-02\n",
            "   -2.33320594e-02 -4.97848280e-02]\n",
            "  [-3.84188779e-02  8.61596316e-04  4.19536978e-03  2.14243047e-02\n",
            "   -3.30911949e-03  1.00243911e-02  1.12056136e-02 -3.86026725e-02\n",
            "   -2.49711759e-02 -3.03182602e-02]\n",
            "  [-4.27697413e-02 -2.60407850e-03  4.57087196e-02 -4.20808308e-02\n",
            "    3.71035002e-02 -1.86497457e-02 -1.17281564e-02 -6.67747110e-03\n",
            "   -3.71776223e-02 -4.47044857e-02]\n",
            "  [-6.08227402e-03 -1.50548294e-03  2.48541348e-02  4.88692261e-02\n",
            "    1.52518190e-02  1.11618266e-02 -4.00743634e-03 -2.24527847e-02\n",
            "    3.52235883e-03  7.90297985e-03]\n",
            "  [ 3.54195274e-02  1.83314793e-02 -2.48072278e-02 -1.32431015e-02\n",
            "   -3.53439339e-02 -3.76529321e-02 -1.40781179e-02 -2.24386808e-02\n",
            "   -3.08981538e-02 -1.12808943e-02]\n",
            "  [-4.95483056e-02  6.97232783e-04  4.98582385e-02 -3.49500030e-03\n",
            "    3.04829590e-02 -3.65504511e-02  2.92617567e-02  4.63782623e-03\n",
            "    3.71517576e-02 -4.36563976e-02]]\n",
            "\n",
            " [[-3.92261855e-02 -2.82040369e-02  4.97449897e-02 -3.21421847e-02\n",
            "    7.90311024e-03  4.60354201e-02 -6.23713806e-03  2.89757513e-02\n",
            "   -2.33320594e-02 -4.97848280e-02]\n",
            "  [-3.92261855e-02 -2.82040369e-02  4.97449897e-02 -3.21421847e-02\n",
            "    7.90311024e-03  4.60354201e-02 -6.23713806e-03  2.89757513e-02\n",
            "   -2.33320594e-02 -4.97848280e-02]\n",
            "  [-3.92261855e-02 -2.82040369e-02  4.97449897e-02 -3.21421847e-02\n",
            "    7.90311024e-03  4.60354201e-02 -6.23713806e-03  2.89757513e-02\n",
            "   -2.33320594e-02 -4.97848280e-02]\n",
            "  [-3.92261855e-02 -2.82040369e-02  4.97449897e-02 -3.21421847e-02\n",
            "    7.90311024e-03  4.60354201e-02 -6.23713806e-03  2.89757513e-02\n",
            "   -2.33320594e-02 -4.97848280e-02]\n",
            "  [ 4.17907722e-02  1.76808350e-02 -1.65660381e-02 -1.13255270e-02\n",
            "   -3.03991921e-02  1.20538585e-02  2.04140879e-02  2.47731470e-02\n",
            "   -1.66207775e-02  3.78224961e-02]\n",
            "  [-4.85693924e-02  2.90750377e-02 -4.18993719e-02  2.57736929e-02\n",
            "   -1.17994770e-02 -8.53220373e-03  1.02523081e-02  1.30199827e-02\n",
            "    2.17035897e-02  1.57418512e-02]\n",
            "  [ 4.50741760e-02 -3.01498901e-02 -4.67345379e-02  1.04814656e-02\n",
            "   -4.10643108e-02  4.85522784e-02  3.61328609e-02  1.25985853e-02\n",
            "    2.56239213e-02 -3.18656564e-02]\n",
            "  [ 3.19727175e-02 -3.58909853e-02 -3.55364457e-02 -3.62175815e-02\n",
            "    1.70350708e-02 -1.16579756e-02 -3.38493139e-02 -3.00963167e-02\n",
            "   -3.78375165e-02 -1.15145072e-02]]]\n"
          ]
        }
      ],
      "source": [
        "print(model.predict(embedded_docs))"
      ]
    },
    {
      "cell_type": "code",
      "execution_count": null,
      "metadata": {
        "id": "JuUxfk7d0XGH",
        "outputId": "c28e6fc6-3db2-4975-9dd3-950b7da8c67e"
      },
      "outputs": [
        {
          "data": {
            "text/plain": [
              "array([   0,    0,    0,    0, 6654,  998, 8966, 1609])"
            ]
          },
          "execution_count": 37,
          "metadata": {},
          "output_type": "execute_result"
        }
      ],
      "source": [
        "embedded_docs[0]"
      ]
    },
    {
      "cell_type": "code",
      "execution_count": 36,
      "metadata": {
        "id": "6JJ_zD0u0XGH",
        "outputId": "1d47ac73-64af-4b65-dc53-684158f4e37f",
        "colab": {
          "base_uri": "https://localhost:8080/"
        }
      },
      "outputs": [
        {
          "output_type": "stream",
          "name": "stdout",
          "text": [
            "1/1 [==============================] - 0s 18ms/step\n",
            "[[-3.92261855e-02 -2.82040369e-02  4.97449897e-02 -3.21421847e-02\n",
            "   7.90311024e-03  4.60354201e-02 -6.23713806e-03  2.89757513e-02\n",
            "  -2.33320594e-02 -4.97848280e-02]\n",
            " [-3.92261855e-02 -2.82040369e-02  4.97449897e-02 -3.21421847e-02\n",
            "   7.90311024e-03  4.60354201e-02 -6.23713806e-03  2.89757513e-02\n",
            "  -2.33320594e-02 -4.97848280e-02]\n",
            " [-3.92261855e-02 -2.82040369e-02  4.97449897e-02 -3.21421847e-02\n",
            "   7.90311024e-03  4.60354201e-02 -6.23713806e-03  2.89757513e-02\n",
            "  -2.33320594e-02 -4.97848280e-02]\n",
            " [-3.92261855e-02 -2.82040369e-02  4.97449897e-02 -3.21421847e-02\n",
            "   7.90311024e-03  4.60354201e-02 -6.23713806e-03  2.89757513e-02\n",
            "  -2.33320594e-02 -4.97848280e-02]\n",
            " [-4.27697413e-02 -2.60407850e-03  4.57087196e-02 -4.20808308e-02\n",
            "   3.71035002e-02 -1.86497457e-02 -1.17281564e-02 -6.67747110e-03\n",
            "  -3.71776223e-02 -4.47044857e-02]\n",
            " [-3.31827626e-02  2.44951248e-03  1.16032362e-02 -4.00090702e-02\n",
            "  -3.22266594e-02  3.95322703e-02 -1.25843175e-02 -7.43405893e-03\n",
            "  -3.30773368e-02 -4.90115769e-02]\n",
            " [ 3.54195274e-02  1.83314793e-02 -2.48072278e-02 -1.32431015e-02\n",
            "  -3.53439339e-02 -3.76529321e-02 -1.40781179e-02 -2.24386808e-02\n",
            "  -3.08981538e-02 -1.12808943e-02]\n",
            " [ 2.73541324e-02  1.39937289e-02  2.32751407e-02 -4.12945263e-02\n",
            "   8.52234662e-05  1.82585604e-02  2.81299986e-02 -3.18118185e-03\n",
            "  -3.53536718e-02  2.12675966e-02]]\n"
          ]
        }
      ],
      "source": [
        "print(model.predict(embedded_docs)[0])"
      ]
    }
  ],
  "metadata": {
    "kernelspec": {
      "display_name": "Python 3",
      "name": "python3"
    },
    "language_info": {
      "codemirror_mode": {
        "name": "ipython",
        "version": 3
      },
      "file_extension": ".py",
      "mimetype": "text/x-python",
      "name": "python",
      "nbconvert_exporter": "python",
      "pygments_lexer": "ipython3",
      "version": "3.7.4"
    },
    "colab": {
      "provenance": [],
      "gpuType": "T4",
      "include_colab_link": true
    },
    "accelerator": "GPU"
  },
  "nbformat": 4,
  "nbformat_minor": 0
}